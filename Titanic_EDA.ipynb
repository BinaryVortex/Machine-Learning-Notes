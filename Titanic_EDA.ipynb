{
  "nbformat": 4,
  "nbformat_minor": 0,
  "metadata": {
    "colab": {
      "provenance": []
    },
    "kernelspec": {
      "name": "python3",
      "display_name": "Python 3"
    },
    "language_info": {
      "name": "python"
    }
  },
  "cells": [
    {
      "cell_type": "markdown",
      "source": [
        "Import libraries"
      ],
      "metadata": {
        "id": "AJv1xEMquoqB"
      }
    },
    {
      "cell_type": "code",
      "execution_count": null,
      "metadata": {
        "id": "V7P80bkgqZoi"
      },
      "outputs": [],
      "source": [
        "import pandas as pd\n",
        "import seaborn as sns\n",
        "import matplotlib.pyplot as plt\n",
        "import seaborn as sns"
      ]
    },
    {
      "cell_type": "markdown",
      "source": [
        "Loading the data set"
      ],
      "metadata": {
        "id": "ZSwRk3CHvHtp"
      }
    },
    {
      "cell_type": "code",
      "source": [
        "titanic_df = sns.load_dataset('titanic')\n",
        "print(titanic_df.head(30))"
      ],
      "metadata": {
        "colab": {
          "base_uri": "https://localhost:8080/"
        },
        "id": "0ngDNk-iv4yo",
        "outputId": "108dbe14-93ae-4698-c6a1-98713aa5a943"
      },
      "execution_count": null,
      "outputs": [
        {
          "output_type": "stream",
          "name": "stdout",
          "text": [
            "    survived  pclass     sex   age  sibsp  parch      fare embarked   class  \\\n",
            "0          0       3    male  22.0      1      0    7.2500        S   Third   \n",
            "1          1       1  female  38.0      1      0   71.2833        C   First   \n",
            "2          1       3  female  26.0      0      0    7.9250        S   Third   \n",
            "3          1       1  female  35.0      1      0   53.1000        S   First   \n",
            "4          0       3    male  35.0      0      0    8.0500        S   Third   \n",
            "5          0       3    male   NaN      0      0    8.4583        Q   Third   \n",
            "6          0       1    male  54.0      0      0   51.8625        S   First   \n",
            "7          0       3    male   2.0      3      1   21.0750        S   Third   \n",
            "8          1       3  female  27.0      0      2   11.1333        S   Third   \n",
            "9          1       2  female  14.0      1      0   30.0708        C  Second   \n",
            "10         1       3  female   4.0      1      1   16.7000        S   Third   \n",
            "11         1       1  female  58.0      0      0   26.5500        S   First   \n",
            "12         0       3    male  20.0      0      0    8.0500        S   Third   \n",
            "13         0       3    male  39.0      1      5   31.2750        S   Third   \n",
            "14         0       3  female  14.0      0      0    7.8542        S   Third   \n",
            "15         1       2  female  55.0      0      0   16.0000        S  Second   \n",
            "16         0       3    male   2.0      4      1   29.1250        Q   Third   \n",
            "17         1       2    male   NaN      0      0   13.0000        S  Second   \n",
            "18         0       3  female  31.0      1      0   18.0000        S   Third   \n",
            "19         1       3  female   NaN      0      0    7.2250        C   Third   \n",
            "20         0       2    male  35.0      0      0   26.0000        S  Second   \n",
            "21         1       2    male  34.0      0      0   13.0000        S  Second   \n",
            "22         1       3  female  15.0      0      0    8.0292        Q   Third   \n",
            "23         1       1    male  28.0      0      0   35.5000        S   First   \n",
            "24         0       3  female   8.0      3      1   21.0750        S   Third   \n",
            "25         1       3  female  38.0      1      5   31.3875        S   Third   \n",
            "26         0       3    male   NaN      0      0    7.2250        C   Third   \n",
            "27         0       1    male  19.0      3      2  263.0000        S   First   \n",
            "28         1       3  female   NaN      0      0    7.8792        Q   Third   \n",
            "29         0       3    male   NaN      0      0    7.8958        S   Third   \n",
            "\n",
            "      who  adult_male deck  embark_town alive  alone  \n",
            "0     man        True  NaN  Southampton    no  False  \n",
            "1   woman       False    C    Cherbourg   yes  False  \n",
            "2   woman       False  NaN  Southampton   yes   True  \n",
            "3   woman       False    C  Southampton   yes  False  \n",
            "4     man        True  NaN  Southampton    no   True  \n",
            "5     man        True  NaN   Queenstown    no   True  \n",
            "6     man        True    E  Southampton    no   True  \n",
            "7   child       False  NaN  Southampton    no  False  \n",
            "8   woman       False  NaN  Southampton   yes  False  \n",
            "9   child       False  NaN    Cherbourg   yes  False  \n",
            "10  child       False    G  Southampton   yes  False  \n",
            "11  woman       False    C  Southampton   yes   True  \n",
            "12    man        True  NaN  Southampton    no   True  \n",
            "13    man        True  NaN  Southampton    no  False  \n",
            "14  child       False  NaN  Southampton    no   True  \n",
            "15  woman       False  NaN  Southampton   yes   True  \n",
            "16  child       False  NaN   Queenstown    no  False  \n",
            "17    man        True  NaN  Southampton   yes   True  \n",
            "18  woman       False  NaN  Southampton    no  False  \n",
            "19  woman       False  NaN    Cherbourg   yes   True  \n",
            "20    man        True  NaN  Southampton    no   True  \n",
            "21    man        True    D  Southampton   yes   True  \n",
            "22  child       False  NaN   Queenstown   yes   True  \n",
            "23    man        True    A  Southampton   yes   True  \n",
            "24  child       False  NaN  Southampton    no  False  \n",
            "25  woman       False  NaN  Southampton   yes  False  \n",
            "26    man        True  NaN    Cherbourg    no   True  \n",
            "27    man        True    C  Southampton    no  False  \n",
            "28  woman       False  NaN   Queenstown   yes   True  \n",
            "29    man        True  NaN  Southampton    no   True  \n"
          ]
        }
      ]
    },
    {
      "cell_type": "markdown",
      "source": [
        "Dimension of data set"
      ],
      "metadata": {
        "id": "EbCYtNclxiP4"
      }
    },
    {
      "cell_type": "code",
      "source": [
        "print(titanic_df.shape)"
      ],
      "metadata": {
        "colab": {
          "base_uri": "https://localhost:8080/"
        },
        "id": "HXNhg5AwxXyy",
        "outputId": "2ace7698-dbe6-4602-905b-88e3519bc513"
      },
      "execution_count": null,
      "outputs": [
        {
          "output_type": "stream",
          "name": "stdout",
          "text": [
            "(891, 15)\n"
          ]
        }
      ]
    },
    {
      "cell_type": "markdown",
      "source": [
        "Summary statics of neumerical variable"
      ],
      "metadata": {
        "id": "k0h6v1R3xmh8"
      }
    },
    {
      "cell_type": "code",
      "source": [
        "print(titanic_df.describe())"
      ],
      "metadata": {
        "colab": {
          "base_uri": "https://localhost:8080/"
        },
        "id": "r6YTzCTbxvFx",
        "outputId": "bcffa15e-af7a-46a1-ab17-2a8590e11f3e"
      },
      "execution_count": null,
      "outputs": [
        {
          "output_type": "stream",
          "name": "stdout",
          "text": [
            "         survived      pclass         age       sibsp       parch        fare\n",
            "count  891.000000  891.000000  714.000000  891.000000  891.000000  891.000000\n",
            "mean     0.383838    2.308642   29.699118    0.523008    0.381594   32.204208\n",
            "std      0.486592    0.836071   14.526497    1.102743    0.806057   49.693429\n",
            "min      0.000000    1.000000    0.420000    0.000000    0.000000    0.000000\n",
            "25%      0.000000    2.000000   20.125000    0.000000    0.000000    7.910400\n",
            "50%      0.000000    3.000000   28.000000    0.000000    0.000000   14.454200\n",
            "75%      1.000000    3.000000   38.000000    1.000000    0.000000   31.000000\n",
            "max      1.000000    3.000000   80.000000    8.000000    6.000000  512.329200\n"
          ]
        }
      ]
    },
    {
      "cell_type": "markdown",
      "source": [
        "Data types of variable"
      ],
      "metadata": {
        "id": "G2Sfw0vPx6q8"
      }
    },
    {
      "cell_type": "code",
      "source": [
        "print(titanic_df.dtypes)"
      ],
      "metadata": {
        "colab": {
          "base_uri": "https://localhost:8080/"
        },
        "id": "mUWQRkBwyAhJ",
        "outputId": "4d8c4eec-5561-45c1-b3c9-86e8b4c82c0c"
      },
      "execution_count": null,
      "outputs": [
        {
          "output_type": "stream",
          "name": "stdout",
          "text": [
            "survived          int64\n",
            "pclass            int64\n",
            "sex              object\n",
            "age             float64\n",
            "sibsp             int64\n",
            "parch             int64\n",
            "fare            float64\n",
            "embarked         object\n",
            "class          category\n",
            "who              object\n",
            "adult_male         bool\n",
            "deck           category\n",
            "embark_town      object\n",
            "alive            object\n",
            "alone              bool\n",
            "dtype: object\n"
          ]
        }
      ]
    },
    {
      "cell_type": "markdown",
      "source": [
        "Summary statistics of neumerical variables"
      ],
      "metadata": {
        "id": "K_1I9f3Iy2rn"
      }
    },
    {
      "cell_type": "code",
      "source": [
        "print(titanic_df.describe())"
      ],
      "metadata": {
        "colab": {
          "base_uri": "https://localhost:8080/"
        },
        "id": "YHtF5Dw7zC8J",
        "outputId": "5a2bc548-7c4b-4a12-8932-124cf1882b0c"
      },
      "execution_count": 33,
      "outputs": [
        {
          "output_type": "stream",
          "name": "stdout",
          "text": [
            "         survived      pclass         age       sibsp       parch        fare\n",
            "count  891.000000  891.000000  714.000000  891.000000  891.000000  891.000000\n",
            "mean     0.383838    2.308642   29.699118    0.523008    0.381594   32.204208\n",
            "std      0.486592    0.836071   14.526497    1.102743    0.806057   49.693429\n",
            "min      0.000000    1.000000    0.420000    0.000000    0.000000    0.000000\n",
            "25%      0.000000    2.000000   20.125000    0.000000    0.000000    7.910400\n",
            "50%      0.000000    3.000000   28.000000    0.000000    0.000000   14.454200\n",
            "75%      1.000000    3.000000   38.000000    1.000000    0.000000   31.000000\n",
            "max      1.000000    3.000000   80.000000    8.000000    6.000000  512.329200\n"
          ]
        }
      ]
    },
    {
      "cell_type": "markdown",
      "source": [
        "Data types of variable"
      ],
      "metadata": {
        "id": "ivprPimbzsGt"
      }
    },
    {
      "cell_type": "code",
      "source": [
        "print(titanic_df.dtypes)"
      ],
      "metadata": {
        "colab": {
          "base_uri": "https://localhost:8080/"
        },
        "id": "64d4Tj8Kzvoe",
        "outputId": "89f7df9d-7736-495e-f8b7-917853626f76"
      },
      "execution_count": 35,
      "outputs": [
        {
          "output_type": "stream",
          "name": "stdout",
          "text": [
            "survived          int64\n",
            "pclass            int64\n",
            "sex              object\n",
            "age             float64\n",
            "sibsp             int64\n",
            "parch             int64\n",
            "fare            float64\n",
            "embarked         object\n",
            "class          category\n",
            "who              object\n",
            "adult_male         bool\n",
            "deck           category\n",
            "embark_town      object\n",
            "alive            object\n",
            "alone              bool\n",
            "dtype: object\n"
          ]
        }
      ]
    },
    {
      "cell_type": "markdown",
      "source": [
        "Histogram"
      ],
      "metadata": {
        "id": "kyW6wcEf0Zbx"
      }
    },
    {
      "cell_type": "code",
      "source": [
        "print(titanic_df.columns)\n",
        "\n",
        "plt.hist(titanic_df['age'], bins=10, edgecolor='black')\n",
        "plt.xlabel('Age')\n",
        "plt.ylabel('Frequency')\n",
        "plt.title('Distribution of Age')\n",
        "plt.show()"
      ],
      "metadata": {
        "colab": {
          "base_uri": "https://localhost:8080/",
          "height": 545
        },
        "id": "6W0RRJ-20a5u",
        "outputId": "6b25c6ba-6fca-4767-b331-7831d458ef7c"
      },
      "execution_count": 29,
      "outputs": [
        {
          "output_type": "stream",
          "name": "stdout",
          "text": [
            "Index(['survived', 'pclass', 'sex', 'age', 'sibsp', 'parch', 'fare',\n",
            "       'embarked', 'class', 'who', 'adult_male', 'deck', 'embark_town',\n",
            "       'alive', 'alone'],\n",
            "      dtype='object')\n"
          ]
        },
        {
          "output_type": "display_data",
          "data": {
            "text/plain": [
              "<Figure size 640x480 with 1 Axes>"
            ],
            "image/png": "[encoded data removed]"
          },
          "metadata": {}
        }
      ]
    },
    {
      "cell_type": "markdown",
      "source": [
        "Scatter graph"
      ],
      "metadata": {
        "id": "1MHwB6a11au7"
      }
    },
    {
      "cell_type": "code",
      "source": [
        "print(titanic_df.columns)\n",
        "\n",
        "plt.scatter(titanic_df['age'], titanic_df['fare'])\n",
        "plt.xlabel('Age')\n",
        "plt.ylabel('fare')\n",
        "plt.title('Age vs. Fare')\n",
        "plt.show()"
      ],
      "metadata": {
        "colab": {
          "base_uri": "https://localhost:8080/",
          "height": 545
        },
        "id": "E7LINrfi0vUh",
        "outputId": "c09c5f0e-5fb5-4ca5-9912-d25778b109a5"
      },
      "execution_count": null,
      "outputs": [
        {
          "output_type": "stream",
          "name": "stdout",
          "text": [
            "Index(['survived', 'pclass', 'sex', 'age', 'sibsp', 'parch', 'fare',\n",
            "       'embarked', 'class', 'who', 'adult_male', 'deck', 'embark_town',\n",
            "       'alive', 'alone'],\n",
            "      dtype='object')\n"
          ]
        },
        {
          "output_type": "display_data",
          "data": {
            "text/plain": [
              "<Figure size 640x480 with 1 Axes>"
            ],
            "image/png": "[encoded data removed]"
          },
          "metadata": {}
        }
      ]
    },
    {
      "cell_type": "markdown",
      "source": [
        "Visualize the distribution of age for survivors and non survivors with a blox pot"
      ],
      "metadata": {
        "id": "Ysn1IkAo9iXP"
      }
    },
    {
      "cell_type": "code",
      "source": [
        "sns.boxplot(x='survived',y='age',data=titanic_df)"
      ],
      "metadata": {
        "colab": {
          "base_uri": "https://localhost:8080/",
          "height": 467
        },
        "id": "kYoz9ay09yD4",
        "outputId": "b84f3c77-6749-4a43-8810-c1f87c9dcc7e"
      },
      "execution_count": 30,
      "outputs": [
        {
          "output_type": "execute_result",
          "data": {
            "text/plain": [
              "<Axes: xlabel='survived', ylabel='age'>"
            ]
          },
          "metadata": {},
          "execution_count": 30
        },
        {
          "output_type": "display_data",
          "data": {
            "text/plain": [
              "<Figure size 640x480 with 1 Axes>"
            ],
            "image/png": "[encoded data removed]"
          },
          "metadata": {}
        }
      ]
    },
    {
      "cell_type": "markdown",
      "source": [
        "Null value"
      ],
      "metadata": {
        "id": "HcXK3-bbAhOm"
      }
    },
    {
      "cell_type": "code",
      "source": [
        "print(titanic_df.isnull().sum())"
      ],
      "metadata": {
        "colab": {
          "base_uri": "https://localhost:8080/"
        },
        "id": "MvZ0YkNGAjUr",
        "outputId": "0d5891de-7b33-4609-9ae6-e32a2ce89596"
      },
      "execution_count": 31,
      "outputs": [
        {
          "output_type": "stream",
          "name": "stdout",
          "text": [
            "survived         0\n",
            "pclass           0\n",
            "sex              0\n",
            "age            177\n",
            "sibsp            0\n",
            "parch            0\n",
            "fare             0\n",
            "embarked         2\n",
            "class            0\n",
            "who              0\n",
            "adult_male       0\n",
            "deck           688\n",
            "embark_town      2\n",
            "alive            0\n",
            "alone            0\n",
            "dtype: int64\n"
          ]
        }
      ]
    },
    {
      "cell_type": "markdown",
      "source": [
        "Null values as  a percentage"
      ],
      "metadata": {
        "id": "hWaRjDSrArmW"
      }
    },
    {
      "cell_type": "code",
      "source": [
        "titanic_df.isnull().sum()/len(titanic_df)*100"
      ],
      "metadata": {
        "colab": {
          "base_uri": "https://localhost:8080/",
          "height": 554
        },
        "id": "nRJdgPk1AtYM",
        "outputId": "e8ed5385-13de-4521-cd64-2d6910b77863"
      },
      "execution_count": 32,
      "outputs": [
        {
          "output_type": "execute_result",
          "data": {
            "text/plain": [
              "survived        0.000000\n",
              "pclass          0.000000\n",
              "sex             0.000000\n",
              "age            19.865320\n",
              "sibsp           0.000000\n",
              "parch           0.000000\n",
              "fare            0.000000\n",
              "embarked        0.224467\n",
              "class           0.000000\n",
              "who             0.000000\n",
              "adult_male      0.000000\n",
              "deck           77.216611\n",
              "embark_town     0.224467\n",
              "alive           0.000000\n",
              "alone           0.000000\n",
              "dtype: float64"
            ],
            "text/html": [
              "<div>\n",
              "<style scoped>\n",
              "    .dataframe tbody tr th:only-of-type {\n",
              "        vertical-align: middle;\n",
              "    }\n",
              "\n",
              "    .dataframe tbody tr th {\n",
              "        vertical-align: top;\n",
              "    }\n",
              "\n",
              "    .dataframe thead th {\n",
              "        text-align: right;\n",
              "    }\n",
              "</style>\n",
              "<table border=\"1\" class=\"dataframe\">\n",
              "  <thead>\n",
              "    <tr style=\"text-align: right;\">\n",
              "      <th></th>\n",
              "      <th>0</th>\n",
              "    </tr>\n",
              "  </thead>\n",
              "  <tbody>\n",
              "    <tr>\n",
              "      <th>survived</th>\n",
              "      <td>0.000000</td>\n",
              "    </tr>\n",
              "    <tr>\n",
              "      <th>pclass</th>\n",
              "      <td>0.000000</td>\n",
              "    </tr>\n",
              "    <tr>\n",
              "      <th>sex</th>\n",
              "      <td>0.000000</td>\n",
              "    </tr>\n",
              "    <tr>\n",
              "      <th>age</th>\n",
              "      <td>19.865320</td>\n",
              "    </tr>\n",
              "    <tr>\n",
              "      <th>sibsp</th>\n",
              "      <td>0.000000</td>\n",
              "    </tr>\n",
              "    <tr>\n",
              "      <th>parch</th>\n",
              "      <td>0.000000</td>\n",
              "    </tr>\n",
              "    <tr>\n",
              "      <th>fare</th>\n",
              "      <td>0.000000</td>\n",
              "    </tr>\n",
              "    <tr>\n",
              "      <th>embarked</th>\n",
              "      <td>0.224467</td>\n",
              "    </tr>\n",
              "    <tr>\n",
              "      <th>class</th>\n",
              "      <td>0.000000</td>\n",
              "    </tr>\n",
              "    <tr>\n",
              "      <th>who</th>\n",
              "      <td>0.000000</td>\n",
              "    </tr>\n",
              "    <tr>\n",
              "      <th>adult_male</th>\n",
              "      <td>0.000000</td>\n",
              "    </tr>\n",
              "    <tr>\n",
              "      <th>deck</th>\n",
              "      <td>77.216611</td>\n",
              "    </tr>\n",
              "    <tr>\n",
              "      <th>embark_town</th>\n",
              "      <td>0.224467</td>\n",
              "    </tr>\n",
              "    <tr>\n",
              "      <th>alive</th>\n",
              "      <td>0.000000</td>\n",
              "    </tr>\n",
              "    <tr>\n",
              "      <th>alone</th>\n",
              "      <td>0.000000</td>\n",
              "    </tr>\n",
              "  </tbody>\n",
              "</table>\n",
              "</div><br><label><b>dtype:</b> float64</label>"
            ]
          },
          "metadata": {},
          "execution_count": 32
        }
      ]
    },
    {
      "cell_type": "markdown",
      "source": [
        "No of persons who survived"
      ],
      "metadata": {
        "id": "oeTs08nNBuiG"
      }
    },
    {
      "cell_type": "code",
      "source": [
        "print(titanic_df['survived'].value_counts())"
      ],
      "metadata": {
        "colab": {
          "base_uri": "https://localhost:8080/"
        },
        "id": "2dwAnIMgBhNT",
        "outputId": "98535419-f86e-480e-b58e-604cb3fab3ae"
      },
      "execution_count": 36,
      "outputs": [
        {
          "output_type": "stream",
          "name": "stdout",
          "text": [
            "survived\n",
            "0    549\n",
            "1    342\n",
            "Name: count, dtype: int64\n"
          ]
        }
      ]
    },
    {
      "cell_type": "code",
      "source": [
        "print(titanic_df['survived'].value_counts(normalize=True)*100)"
      ],
      "metadata": {
        "colab": {
          "base_uri": "https://localhost:8080/"
        },
        "id": "0OaYxBoaBy2o",
        "outputId": "14d02b7d-5d24-49eb-bcac-8649a8b90173"
      },
      "execution_count": 37,
      "outputs": [
        {
          "output_type": "stream",
          "name": "stdout",
          "text": [
            "survived\n",
            "0    61.616162\n",
            "1    38.383838\n",
            "Name: proportion, dtype: float64\n"
          ]
        }
      ]
    },
    {
      "cell_type": "code",
      "source": [
        "import matplotlib.pyplot as plt"
      ],
      "metadata": {
        "id": "Dc1-wwSuCmbg"
      },
      "execution_count": 38,
      "outputs": []
    },
    {
      "cell_type": "code",
      "source": [
        "plt.figure(figsize=(8,6))\n",
        "sns.countplot(x='sex',data=titanic_df)\n",
        "plt.xlabel('Gender')\n",
        "plt.ylabel('Count')\n",
        "plt.title('Gender Count')\n",
        "plt.show()"
      ],
      "metadata": {
        "colab": {
          "base_uri": "https://localhost:8080/",
          "height": 564
        },
        "id": "A6nlilnECcMc",
        "outputId": "03ff5dce-76db-4efa-dafe-9d47e1989485"
      },
      "execution_count": 42,
      "outputs": [
        {
          "output_type": "display_data",
          "data": {
            "text/plain": [
              "<Figure size 800x600 with 1 Axes>"
            ],
            "image/png": "[encoded data removed]"
          },
          "metadata": {}
        }
      ]
    },
    {
      "cell_type": "code",
      "source": [
        "def display_univariate_analysis(data, column):\n",
        "  category_counts = df[column].value_counts()\n",
        "  plt.figure(figsize=(8,6))\n",
        "  sns.countplot(x=column, data=data)\n",
        "  plt.xlabel(column)\n",
        "  plt.ylabel('Count')\n",
        "  plt.title(f'{column} Count')\n",
        "  plt.show()"
      ],
      "metadata": {
        "id": "Sx5-y1a9Dtp0"
      },
      "execution_count": 45,
      "outputs": []
    },
    {
      "cell_type": "code",
      "source": [
        "display_univariate_analysis(titanic_df, 'sex')"
      ],
      "metadata": {
        "colab": {
          "base_uri": "https://localhost:8080/",
          "height": 564
        },
        "id": "uXHpcT1SDtel",
        "outputId": "6df011e8-2506-4bea-e442-96e80d3e8a54"
      },
      "execution_count": 46,
      "outputs": [
        {
          "output_type": "display_data",
          "data": {
            "text/plain": [
              "<Figure size 800x600 with 1 Axes>"
            ],
            "image/png": "[encoded data removed]"
          },
          "metadata": {}
        }
      ]
    },
    {
      "cell_type": "code",
      "source": [
        "print(titanic_df['age'].describe())"
      ],
      "metadata": {
        "colab": {
          "base_uri": "https://localhost:8080/"
        },
        "id": "vdmHh0m-L4f5",
        "outputId": "6281e0c5-a9f4-4a03-9471-2c53dc5763ce"
      },
      "execution_count": 47,
      "outputs": [
        {
          "output_type": "stream",
          "name": "stdout",
          "text": [
            "count    714.000000\n",
            "mean      29.699118\n",
            "std       14.526497\n",
            "min        0.420000\n",
            "25%       20.125000\n",
            "50%       28.000000\n",
            "75%       38.000000\n",
            "max       80.000000\n",
            "Name: age, dtype: float64\n"
          ]
        }
      ]
    },
    {
      "cell_type": "code",
      "source": [
        "def display_univariate_distribution(data, column,bin=20,kde=True):\n",
        "  plt.figure(figsize=(8,6))\n",
        "  sns.histplot(data[column].dropna(),bins=bins,kde=kde)\n",
        "  plt.xlabel(column)\n",
        "  plt.ylabel('Frequency')\n",
        "  plt.show()"
      ],
      "metadata": {
        "id": "U0MbdHQdMQ2H"
      },
      "execution_count": 48,
      "outputs": []
    },
    {
      "cell_type": "code",
      "source": [
        "display_univariate_distribution(titanic_df,'age')"
      ],
      "metadata": {
        "colab": {
          "base_uri": "https://localhost:8080/",
          "height": 146
        },
        "id": "RS8TAjjrMzRV",
        "outputId": "e10cd3cb-b8e3-455f-ede0-10e314df99aa"
      },
      "execution_count": 52,
      "outputs": [
        {
          "output_type": "error",
          "ename": "NameError",
          "evalue": "name 'display_univariate_distribution' is not defined",
          "traceback": [
            "\u001b[0;31m---------------------------------------------------------------------------\u001b[0m",
            "\u001b[0;31mNameError\u001b[0m                                 Traceback (most recent call last)",
            "\u001b[0;32m<ipython-input-52-01f281e7e63a>\u001b[0m in \u001b[0;36m<cell line: 1>\u001b[0;34m()\u001b[0m\n\u001b[0;32m----> 1\u001b[0;31m \u001b[0mdisplay_univariate_distribution\u001b[0m\u001b[0;34m(\u001b[0m\u001b[0mtitanic_df\u001b[0m\u001b[0;34m,\u001b[0m\u001b[0;34m'age'\u001b[0m\u001b[0;34m)\u001b[0m\u001b[0;34m\u001b[0m\u001b[0;34m\u001b[0m\u001b[0m\n\u001b[0m",
            "\u001b[0;31mNameError\u001b[0m: name 'display_univariate_distribution' is not defined"
          ]
        }
      ]
    }
  ]
}