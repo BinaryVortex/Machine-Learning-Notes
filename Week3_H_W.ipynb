{
  "nbformat": 4,
  "nbformat_minor": 0,
  "metadata": {
    "colab": {
      "provenance": []
    },
    "kernelspec": {
      "name": "python3",
      "display_name": "Python 3"
    },
    "language_info": {
      "name": "python"
    }
  },
  "cells": [
    {
      "cell_type": "markdown",
      "source": [
        "**Import libraries**"
      ],
      "metadata": {
        "id": "qd5p1gGXuKKz"
      }
    },
    {
      "cell_type": "code",
      "source": [
        "import pandas as pd\n",
        "import seaborn as sns"
      ],
      "metadata": {
        "id": "2g2o_CYouO7c"
      },
      "execution_count": null,
      "outputs": []
    },
    {
      "cell_type": "markdown",
      "source": [
        "**Import the titanic dataset from seaborn library and put into a dataframe**"
      ],
      "metadata": {
        "id": "-IBPJmHfuWqh"
      }
    },
    {
      "cell_type": "code",
      "source": [
        "titanic_df = sns.load_dataset('titanic')"
      ],
      "metadata": {
        "id": "xJIOZtBPujjL"
      },
      "execution_count": null,
      "outputs": []
    },
    {
      "cell_type": "code",
      "source": [
        "print(titanic_df.head(25))"
      ],
      "metadata": {
        "colab": {
          "base_uri": "https://localhost:8080/"
        },
        "id": "6gCksAiRu4DJ",
        "outputId": "b4f7c66f-5588-4f9c-ea7c-dcd1e593ff24"
      },
      "execution_count": null,
      "outputs": [
        {
          "output_type": "stream",
          "name": "stdout",
          "text": [
            "    survived  pclass     sex   age  sibsp  parch     fare embarked   class  \\\n",
            "0          0       3    male  22.0      1      0   7.2500        S   Third   \n",
            "1          1       1  female  38.0      1      0  71.2833        C   First   \n",
            "2          1       3  female  26.0      0      0   7.9250        S   Third   \n",
            "3          1       1  female  35.0      1      0  53.1000        S   First   \n",
            "4          0       3    male  35.0      0      0   8.0500        S   Third   \n",
            "5          0       3    male   NaN      0      0   8.4583        Q   Third   \n",
            "6          0       1    male  54.0      0      0  51.8625        S   First   \n",
            "7          0       3    male   2.0      3      1  21.0750        S   Third   \n",
            "8          1       3  female  27.0      0      2  11.1333        S   Third   \n",
            "9          1       2  female  14.0      1      0  30.0708        C  Second   \n",
            "10         1       3  female   4.0      1      1  16.7000        S   Third   \n",
            "11         1       1  female  58.0      0      0  26.5500        S   First   \n",
            "12         0       3    male  20.0      0      0   8.0500        S   Third   \n",
            "13         0       3    male  39.0      1      5  31.2750        S   Third   \n",
            "14         0       3  female  14.0      0      0   7.8542        S   Third   \n",
            "15         1       2  female  55.0      0      0  16.0000        S  Second   \n",
            "16         0       3    male   2.0      4      1  29.1250        Q   Third   \n",
            "17         1       2    male   NaN      0      0  13.0000        S  Second   \n",
            "18         0       3  female  31.0      1      0  18.0000        S   Third   \n",
            "19         1       3  female   NaN      0      0   7.2250        C   Third   \n",
            "20         0       2    male  35.0      0      0  26.0000        S  Second   \n",
            "21         1       2    male  34.0      0      0  13.0000        S  Second   \n",
            "22         1       3  female  15.0      0      0   8.0292        Q   Third   \n",
            "23         1       1    male  28.0      0      0  35.5000        S   First   \n",
            "24         0       3  female   8.0      3      1  21.0750        S   Third   \n",
            "\n",
            "      who  adult_male deck  embark_town alive  alone  \n",
            "0     man        True  NaN  Southampton    no  False  \n",
            "1   woman       False    C    Cherbourg   yes  False  \n",
            "2   woman       False  NaN  Southampton   yes   True  \n",
            "3   woman       False    C  Southampton   yes  False  \n",
            "4     man        True  NaN  Southampton    no   True  \n",
            "5     man        True  NaN   Queenstown    no   True  \n",
            "6     man        True    E  Southampton    no   True  \n",
            "7   child       False  NaN  Southampton    no  False  \n",
            "8   woman       False  NaN  Southampton   yes  False  \n",
            "9   child       False  NaN    Cherbourg   yes  False  \n",
            "10  child       False    G  Southampton   yes  False  \n",
            "11  woman       False    C  Southampton   yes   True  \n",
            "12    man        True  NaN  Southampton    no   True  \n",
            "13    man        True  NaN  Southampton    no  False  \n",
            "14  child       False  NaN  Southampton    no   True  \n",
            "15  woman       False  NaN  Southampton   yes   True  \n",
            "16  child       False  NaN   Queenstown    no  False  \n",
            "17    man        True  NaN  Southampton   yes   True  \n",
            "18  woman       False  NaN  Southampton    no  False  \n",
            "19  woman       False  NaN    Cherbourg   yes   True  \n",
            "20    man        True  NaN  Southampton    no   True  \n",
            "21    man        True    D  Southampton   yes   True  \n",
            "22  child       False  NaN   Queenstown   yes   True  \n",
            "23    man        True    A  Southampton   yes   True  \n",
            "24  child       False  NaN  Southampton    no  False  \n"
          ]
        }
      ]
    },
    {
      "cell_type": "markdown",
      "source": [
        "**Grouping the dataframe by survived and compute the average age of each group**"
      ],
      "metadata": {
        "id": "_B5d2pSrvPoP"
      }
    },
    {
      "cell_type": "markdown",
      "source": [
        "**Comparition of the survival rate by Age**"
      ],
      "metadata": {
        "id": "BKE-wkFKB8a5"
      }
    },
    {
      "cell_type": "code",
      "source": [
        "print(titanic_df.groupby('survived')['age'].mean())"
      ],
      "metadata": {
        "colab": {
          "base_uri": "https://localhost:8080/"
        },
        "id": "8q5mms_Lvc2_",
        "outputId": "b5e97808-7f58-4dc3-973b-05a80c026e9b"
      },
      "execution_count": null,
      "outputs": [
        {
          "output_type": "stream",
          "name": "stdout",
          "text": [
            "survived\n",
            "0    30.626179\n",
            "1    28.343690\n",
            "Name: age, dtype: float64\n"
          ]
        }
      ]
    },
    {
      "cell_type": "markdown",
      "source": [
        "**Visualize the distribution of age for survivors and non-survivors with a box plot**"
      ],
      "metadata": {
        "id": "PSkf_QVPvgtt"
      }
    },
    {
      "cell_type": "code",
      "source": [
        "sns.boxplot(x='survived', y='age', data=titanic_df)"
      ],
      "metadata": {
        "colab": {
          "base_uri": "https://localhost:8080/",
          "height": 467
        },
        "id": "bKyKG-AavmlW",
        "outputId": "ac64606d-031c-44d8-f71c-9d5cad863a03"
      },
      "execution_count": null,
      "outputs": [
        {
          "output_type": "execute_result",
          "data": {
            "text/plain": [
              "<Axes: xlabel='survived', ylabel='age'>"
            ]
          },
          "metadata": {},
          "execution_count": 11
        },
        {
          "output_type": "display_data",
          "data": {
            "text/plain": [
              "<Figure size 640x480 with 1 Axes>"
            ],
            "image/png": "[encoded data removed]"
          },
          "metadata": {}
        }
      ]
    },
    {
      "cell_type": "markdown",
      "source": [
        "**Analyze the fare by Embarked Port**"
      ],
      "metadata": {
        "id": "2eEgdYLJCF5i"
      }
    },
    {
      "cell_type": "code",
      "source": [
        "print(titanic_df.groupby('embarked')['fare'].mean())"
      ],
      "metadata": {
        "colab": {
          "base_uri": "https://localhost:8080/"
        },
        "id": "Z_93Xy1QCJR7",
        "outputId": "c22c9f38-292c-42e7-8b14-cda74f6ae582"
      },
      "execution_count": null,
      "outputs": [
        {
          "output_type": "stream",
          "name": "stdout",
          "text": [
            "embarked\n",
            "C    59.954144\n",
            "Q    13.276030\n",
            "S    27.079812\n",
            "Name: fare, dtype: float64\n"
          ]
        }
      ]
    },
    {
      "cell_type": "markdown",
      "source": [
        "Comparition of the mean ages to see if younger or older\n",
        "passengers had higher survival rates **bold text**"
      ],
      "metadata": {
        "id": "afWYGTI8CcHP"
      }
    },
    {
      "cell_type": "code",
      "source": [
        "print(titanic_df.groupby('survived')['age'].mean())"
      ],
      "metadata": {
        "colab": {
          "base_uri": "https://localhost:8080/"
        },
        "id": "jfGWluSOCiOJ",
        "outputId": "14aee70e-8c6c-47c1-98cf-790d9bb93aa4"
      },
      "execution_count": null,
      "outputs": [
        {
          "output_type": "stream",
          "name": "stdout",
          "text": [
            "survived\n",
            "0    30.626179\n",
            "1    28.343690\n",
            "Name: age, dtype: float64\n"
          ]
        }
      ]
    }
  ]
}